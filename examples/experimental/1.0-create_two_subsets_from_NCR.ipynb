{
 "cells": [
  {
   "cell_type": "code",
   "execution_count": 3,
   "metadata": {},
   "outputs": [],
   "source": [
    "import pandas as pd\n",
    "from sas7bdat import SAS7BDAT\n",
    "import numpy as np\n",
    "from datetime import date\n",
    "import datetime as DT\n",
    "from datetime import datetime\n",
    "import io"
   ]
  },
  {
   "cell_type": "markdown",
   "metadata": {},
   "source": [
    "## Create one dataframe with all information"
   ]
  },
  {
   "cell_type": "code",
   "execution_count": 4,
   "metadata": {},
   "outputs": [],
   "source": [
    "df_tumour = pd.read_csv(\"C:\\Data\\crc_tumor.csv\")\n",
    "df_tumour[\"tum_incidentie_dtm\"] = pd.to_datetime(df_tumour['tum_incidentie_dtm'])\n",
    "\n",
    "df_patient = pd.read_csv(\"C:\\Data\\crc_patient.csv\")\n",
    "df_patient[\"pat_geboorte_dtm\"] = pd.to_datetime(df_patient['pat_geboorte_dtm'])\n",
    "df_patient[\"pat_overlijden_dtm\"] = pd.to_datetime(df_patient['pat_overlijden_dtm'])\n",
    "df_patient[\"pat_laatste_contact_dtm\"] = pd.to_datetime(df_patient['pat_laatste_contact_dtm'])\n",
    "\n",
    "df_cp = pd.read_csv(\"C:\\Data\\crc_ziektebeeld.csv\")\n",
    "\n",
    "df_treatment = pd.read_csv(\"C:\\Data\\crc_behandeling.csv\")\n",
    "df_treatment[\"gbs_eind_dtm\"] = pd.to_datetime(df_treatment[\"gbs_eind_dtm\"])\n",
    "df_treatment[\"gbs_begin_dtm\"] = pd.to_datetime(df_treatment[\"gbs_begin_dtm\"])"
   ]
  },
  {
   "cell_type": "code",
   "execution_count": 5,
   "metadata": {
    "scrolled": false
   },
   "outputs": [],
   "source": [
    "# From treatment to patient (patient (rn)-> ziektebeeld (zid)-> tumor (eid)-> behandeling)\n",
    "df_tum_tr = pd.merge(df_tumour, df_treatment, on=[\"eid\",\"rn\",\"zid\"])\n",
    "df_tum_tr_cp = pd.merge(df_tum_tr, df_cp, on=[\"rn\",\"zid\"])\n",
    "df_all = pd.merge(df_tum_tr_cp, df_patient, on=[\"rn\"])\n",
    "\n",
    "cols_to_order = [\"rn\",\"zid\",\"eid\", \"gid\"]\n",
    "new_columns = cols_to_order + (df_all.columns.drop(cols_to_order).tolist())\n",
    "df = df_all[new_columns]"
   ]
  },
  {
   "cell_type": "markdown",
   "metadata": {},
   "source": [
    "## Only keep colon carcinoma and one record per patient (and only if it is first episode)"
   ]
  },
  {
   "cell_type": "code",
   "execution_count": 6,
   "metadata": {},
   "outputs": [],
   "source": [
    "# Select all records with cancer colon carcinoma (tumourtype 205310) and keep one record per rn/patient (first episode and then first incidence date)\n",
    "df['tum_tumorsoort_id'] = df['tum_tumorsoort_id'].apply(np.int64)\n",
    "df_cc = df[df['tum_tumorsoort_id'] == 205310]\n",
    "df_cc = df_cc[df_cc['eerste_episode'] == 1] # 1 means yes first episode and 0 means no not first episode (because of years of survival)\n",
    "# Keeping only one record per patient\n",
    "df_cc = df_cc.sort_values('tum_incidentie_dtm')\n",
    "df_cc = df_cc.groupby('rn').first().reset_index()"
   ]
  },
  {
   "cell_type": "markdown",
   "metadata": {},
   "source": [
    "### Create dataset with 17 features"
   ]
  },
  {
   "cell_type": "code",
   "execution_count": 7,
   "metadata": {},
   "outputs": [],
   "source": [
    "df_cc1 = df_cc[['rn', 'pat_geboorte_dtm', 'pat_geslacht_code', 'tum_incidentie_dtm', 'tum_topo_sublokalisatie_code', 'tum_morfologie_code', \n",
    "                'tum_differentiatiegraad_code', 'vitstat', 'ct', 'cn', 'cm', 'pt', 'pn', 'pm', 'stadium', 'tum_lymfklieren_onderzocht_atl',\n",
    "              'tum_lymfklieren_positief_atl', 'pat_overlijden_dtm']]"
   ]
  },
  {
   "cell_type": "markdown",
   "metadata": {},
   "source": [
    "### Create dataset with 9 features"
   ]
  },
  {
   "cell_type": "code",
   "execution_count": 8,
   "metadata": {},
   "outputs": [],
   "source": [
    "df_cc2 = df_cc[['rn', 'pat_geboorte_dtm', 'pat_geslacht_code', 'tum_incidentie_dtm', 'tum_topo_sublokalisatie_code', 'tum_differentiatiegraad_code',\n",
    "                'vitstat', 'stadium', 'tum_lymfklieren_positief_atl', 'pat_overlijden_dtm']]"
   ]
  },
  {
   "cell_type": "markdown",
   "metadata": {},
   "source": [
    "## Save both subsets as csv file"
   ]
  },
  {
   "cell_type": "code",
   "execution_count": 9,
   "metadata": {},
   "outputs": [],
   "source": [
    "df_cc1.to_csv('C:\\Users\\bde2002.53381\\Desktop\\master-thesis\\experiments\\data\\input\\df1_subset.csv', index=False)\n",
    "df_cc2.to_csv('C:\\Users\\bde2002.53381\\Desktop\\master-thesis\\experiments\\data\\input\\df2_subset.csv', index=False)"
   ]
  },
  {
   "cell_type": "code",
   "execution_count": null,
   "metadata": {},
   "outputs": [],
   "source": []
  }
 ],
 "metadata": {
  "kernelspec": {
   "display_name": "Python 3",
   "language": "python",
   "name": "python3"
  },
  "language_info": {
   "codemirror_mode": {
    "name": "ipython",
    "version": 3
   },
   "file_extension": ".py",
   "mimetype": "text/x-python",
   "name": "python",
   "nbconvert_exporter": "python",
   "pygments_lexer": "ipython3",
   "version": "3.7.0"
  }
 },
 "nbformat": 4,
 "nbformat_minor": 2
}
