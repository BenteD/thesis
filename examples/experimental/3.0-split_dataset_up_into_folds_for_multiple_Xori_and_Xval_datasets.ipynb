{
 "cells": [
  {
   "cell_type": "code",
   "execution_count": 1,
   "metadata": {},
   "outputs": [],
   "source": [
    "import pandas as pd\n",
    "from sklearn.model_selection import StratifiedKFold\n",
    "import numpy as np"
   ]
  },
  {
   "cell_type": "code",
   "execution_count": 2,
   "metadata": {},
   "outputs": [],
   "source": [
    "# Load final dataset with target to generate synthetic data with\n",
    "df = pd.read_csv(\"C:\\\\Users\\\\bde2002.53381\\\\Desktop\\\\master-thesis\\\\experiments\\\\data\\\\df2_target.csv\")"
   ]
  },
  {
   "cell_type": "code",
   "execution_count": 3,
   "metadata": {},
   "outputs": [],
   "source": [
    "X = df.iloc[:,:-1]\n",
    "y = df.iloc[:,-1]"
   ]
  },
  {
   "cell_type": "code",
   "execution_count": 4,
   "metadata": {},
   "outputs": [
    {
     "name": "stdout",
     "output_type": "stream",
     "text": [
      "StratifiedKFold(n_splits=5, random_state=8, shuffle=True)\n"
     ]
    }
   ],
   "source": [
    "# Split into 5 stratified folds, so 5 \"different\" original sets with corresponding holdout validation sets are created\n",
    "skf = StratifiedKFold(n_splits=5, random_state=8, shuffle=True)\n",
    "print(skf)"
   ]
  },
  {
   "cell_type": "code",
   "execution_count": 5,
   "metadata": {},
   "outputs": [],
   "source": [
    "# Save indices per split so separate dataframes can be saved later\n",
    "train_idx = []\n",
    "val_idx = []\n",
    "for train_index, test_index in skf.split(X, y):\n",
    "    train_idx.append(train_index)\n",
    "    val_idx.append(test_index)"
   ]
  },
  {
   "cell_type": "code",
   "execution_count": 6,
   "metadata": {},
   "outputs": [],
   "source": [
    "# Create the 5 dataframes including corresponding holdout validation set\n",
    "df_ori_1 = df.loc[train_idx[0]]\n",
    "df_val_1 = df.loc[val_idx[0]]\n",
    "\n",
    "df_ori_2 = df.loc[train_idx[1]]\n",
    "df_val_2 = df.loc[val_idx[1]]\n",
    "\n",
    "df_ori_3 = df.loc[train_idx[2]]\n",
    "df_val_3 = df.loc[val_idx[2]]\n",
    "\n",
    "df_ori_4 = df.loc[train_idx[3]]\n",
    "df_val_4 = df.loc[val_idx[3]]\n",
    "\n",
    "df_ori_5 = df.loc[train_idx[4]]\n",
    "df_val_5 = df.loc[val_idx[4]]"
   ]
  },
  {
   "cell_type": "code",
   "execution_count": 7,
   "metadata": {},
   "outputs": [],
   "source": [
    "# Save the dataframes\n",
    "all_ori_dfs = [df_ori_1, df_ori_2, df_ori_3, df_ori_4, df_ori_5]\n",
    "all_val_dfs = [df_val_1, df_val_2, df_val_3, df_val_4, df_val_5]\n",
    "\n",
    "i = 1\n",
    "for df in all_ori_dfs:\n",
    "    df.to_csv('C:\\\\Users\\\\bde2002.53381\\\\Desktop\\\\master-thesis\\\\experiments\\\\data\\\\df_ori_{}.csv'.format(i), index=False)\n",
    "    i += 1\n",
    "    \n",
    "i = 1\n",
    "for df in all_val_dfs:\n",
    "    df.to_csv('C:\\\\Users\\\\bde2002.53381\\\\Desktop\\\\master-thesis\\\\experiments\\\\data\\\\df_val_{}.csv'.format(i), index=False)\n",
    "    i += 1  "
   ]
  }
 ],
 "metadata": {
  "kernelspec": {
   "display_name": "Python 3",
   "language": "python",
   "name": "python3"
  },
  "language_info": {
   "codemirror_mode": {
    "name": "ipython",
    "version": 3
   },
   "file_extension": ".py",
   "mimetype": "text/x-python",
   "name": "python",
   "nbconvert_exporter": "python",
   "pygments_lexer": "ipython3",
   "version": "3.7.0"
  }
 },
 "nbformat": 4,
 "nbformat_minor": 2
}
