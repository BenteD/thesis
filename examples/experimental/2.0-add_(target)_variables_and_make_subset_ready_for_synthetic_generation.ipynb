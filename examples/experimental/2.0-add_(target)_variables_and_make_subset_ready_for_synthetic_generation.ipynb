{
 "cells": [
  {
   "cell_type": "code",
   "execution_count": 1,
   "metadata": {},
   "outputs": [],
   "source": [
    "import pandas as pd\n",
    "import numpy as np"
   ]
  },
  {
   "cell_type": "markdown",
   "metadata": {},
   "source": [
    "# Make standard dataset as how it has to be as input for synthetic data"
   ]
  },
  {
   "cell_type": "code",
   "execution_count": 2,
   "metadata": {},
   "outputs": [],
   "source": [
    "df = pd.read_csv('C:\\Users\\bde2002.53381\\Desktop\\master-thesis\\experiments\\data\\input\\df2_subset.csv')"
   ]
  },
  {
   "cell_type": "markdown",
   "metadata": {},
   "source": [
    "### Add target variable to dataset"
   ]
  },
  {
   "cell_type": "code",
   "execution_count": 3,
   "metadata": {},
   "outputs": [],
   "source": [
    "# Years of survival for patients that died\n",
    "df[\"pat_overlijden_dtm\"] = pd.to_datetime(df['pat_overlijden_dtm'])\n",
    "df['tum_incidentie_dtm'] = pd.to_datetime(df['tum_incidentie_dtm'])\n",
    "df['days_of_survival'] = (df['pat_overlijden_dtm'] - df['tum_incidentie_dtm']).dt.days\n",
    "\n",
    "# Add days of survival for patients that were alive at 31-12-2018\n",
    "# Note that this is only useful to see which patients survived for X years yes/no, it is not their final years of survival\n",
    "df.loc[df.vitstat == 0, 'days_of_survival'] = (pd.to_datetime(\"2019-01-01\") - df['tum_incidentie_dtm']).dt.days"
   ]
  },
  {
   "cell_type": "raw",
   "metadata": {},
   "source": [
    "# Add binary target variable, 1460 days is four years which leads to approx even label division (66688 (True) vs 71517 (False))\n",
    "# If choosing for 5 years the division will be 55862 (True) vs 76257 (False)\n",
    "# Patients alive at 31-12-2018 but did not pass the fours years yet, are deleted from the dataset\n",
    "df['4_yos'] = False\n",
    "df.loc[df.days_of_survival > 1459, '4_yos'] = True\n",
    "\n",
    "df = df.drop(df[(df.vitstat == 0) & (df['4_yos'] == False)].index)\n",
    "df = df.drop(columns=['days_of_survival']);\n",
    "df[\"4_yos\"] = df[\"4_yos\"].replace([True, False],[1, 0])"
   ]
  },
  {
   "cell_type": "code",
   "execution_count": 4,
   "metadata": {},
   "outputs": [],
   "source": [
    "# Same but for 5 years of survival (makes more sense in this domain) 42% survived\n",
    "df['5_yos'] = False\n",
    "df.loc[df.days_of_survival > 1824, '5_yos'] = True\n",
    "\n",
    "df = df.drop(df[(df.vitstat == 0) & (df['5_yos'] == False)].index)\n",
    "df = df.drop(columns=['days_of_survival']);\n",
    "df[\"5_yos\"] = df[\"5_yos\"].replace([True, False],[1, 0])"
   ]
  },
  {
   "cell_type": "markdown",
   "metadata": {},
   "source": [
    "### Compute and remove variables"
   ]
  },
  {
   "cell_type": "code",
   "execution_count": 5,
   "metadata": {},
   "outputs": [],
   "source": [
    "# Add age at diagnosis\n",
    "df['pat_geboorte_dtm'] = pd.to_datetime(df['pat_geboorte_dtm'])\n",
    "df['diagnosis_age'] = (df['tum_incidentie_dtm'] - df['pat_geboorte_dtm']).dt.days\n",
    "\n",
    "# Make integer instead of float\n",
    "df['tum_topo_sublokalisatie_code'] = df['tum_topo_sublokalisatie_code'].astype('int64')\n",
    "\n",
    "# Remove date of birth, incidence date, date of death, registration number, vital status\n",
    "df = df.drop(columns=['rn', 'pat_geboorte_dtm', 'tum_incidentie_dtm', 'pat_overlijden_dtm', 'vitstat']);"
   ]
  },
  {
   "cell_type": "code",
   "execution_count": 6,
   "metadata": {},
   "outputs": [],
   "source": [
    "# Set category \"unknown\" to missing value so variables become numerical and ordinal\n",
    "df[\"tum_differentiatiegraad_code\"] = df[\"tum_differentiatiegraad_code\"].replace([9],[np.nan])\n",
    "df[\"tum_lymfklieren_positief_atl\"] = df[\"tum_lymfklieren_positief_atl\"].replace([98,999],[np.nan, np.nan])"
   ]
  },
  {
   "cell_type": "code",
   "execution_count": 10,
   "metadata": {},
   "outputs": [],
   "source": [
    "# Set target to end\n",
    "df = df[[col for col in df.columns if col != '5_yos'] + ['5_yos']]"
   ]
  },
  {
   "cell_type": "markdown",
   "metadata": {},
   "source": [
    "## Now dataset is ready to generate synthetic data"
   ]
  },
  {
   "cell_type": "code",
   "execution_count": 12,
   "metadata": {},
   "outputs": [],
   "source": [
    "# Save as dataset now that it has a target variable\n",
    "df.to_csv(\"C:\\Users\\bde2002.53381\\Desktop\\master-thesis\\experiments\\data\\df2_target.csv\", index=False) # Also save in Data folder"
   ]
  },
  {
   "cell_type": "markdown",
   "metadata": {},
   "source": [
    "# Read dataset for background information and descriptives (removed due to data confidentiality)"
   ]
  },
  {
   "cell_type": "code",
   "execution_count": 129,
   "metadata": {},
   "outputs": [],
   "source": [
    "df = pd.read_csv('C:\\\\Users\\\\bde2002.53381\\\\Desktop\\\\master-thesis\\\\experiments\\\\data\\\\df2_target.csv')"
   ]
  },
  {
   "cell_type": "markdown",
   "metadata": {},
   "source": [
    "## Correlation matrix of dataset"
   ]
  },
  {
   "cell_type": "markdown",
   "metadata": {},
   "source": [
    "## Feature distributions"
   ]
  }
 ],
 "metadata": {
  "kernelspec": {
   "display_name": "Python 3",
   "language": "python",
   "name": "python3"
  },
  "language_info": {
   "codemirror_mode": {
    "name": "ipython",
    "version": 3
   },
   "file_extension": ".py",
   "mimetype": "text/x-python",
   "name": "python",
   "nbconvert_exporter": "python",
   "pygments_lexer": "ipython3",
   "version": "3.7.0"
  }
 },
 "nbformat": 4,
 "nbformat_minor": 2
}
