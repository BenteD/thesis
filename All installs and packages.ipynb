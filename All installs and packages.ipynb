{
 "cells": [
  {
   "cell_type": "raw",
   "metadata": {},
   "source": [
    "!pip install pyhere\n",
    "!pip install pydotplus\n",
    "!pip install plotly\n",
    "!pip install python-varname\n",
    "!pip install python-varname==0.2.0\n",
    "!pip install diffprivlib --user\n",
    "!pip install thomas\n",
    "!pip install thomas.core --user\n",
    "!pip install --target=C:\\Users\\bde2002.53381\\AppData\\Roaming\\Python\\Python37\\site-packages dython\n",
    "!pip install thomas-core==0.1.0a16"
   ]
  },
  {
   "cell_type": "code",
   "execution_count": 7,
   "metadata": {},
   "outputs": [],
   "source": [
    "import pandas as pd\n",
    "import matplotlib\n",
    "import matplotlib.pyplot as plt\n",
    "import numpy as np\n",
    "import math\n",
    "import sklearn\n",
    "from sklearn import metrics#, cross_validation is depreciated need to call from sklearn.model_selection import cross_validate\n",
    "from sklearn.metrics import accuracy_score\n",
    "from sklearn.model_selection import train_test_split, GridSearchCV, cross_validate\n",
    "from sklearn.linear_model import LogisticRegression\n",
    "from sklearn import tree\n",
    "from sklearn.tree import DecisionTreeClassifier\n",
    "from sklearn import preprocessing\n",
    "import random\n",
    "from datetime import date\n",
    "import datetime as DT\n",
    "from datetime import datetime\n",
    "import plotly.graph_objects as go\n",
    "from sklearn.pipeline import Pipeline\n",
    "from collections import Counter\n",
    "from matplotlib import pyplot\n",
    "#from varname import nameof #do i still use this?\n",
    "import seaborn as sns\n",
    "from pandas.api.types import is_numeric_dtype\n",
    "from synthesis.evaluation import visual\n",
    "from numpy import linalg as LA"
   ]
  },
  {
   "cell_type": "code",
   "execution_count": 5,
   "metadata": {},
   "outputs": [
    {
     "name": "stdout",
     "output_type": "stream",
     "text": [
      "\n",
      "C:\\Users\\bde2002.53381\\Scripts\n",
      "C:\\ProgramData\\Anaconda3\\python37.zip\n",
      "C:\\ProgramData\\Anaconda3\\DLLs\n",
      "C:\\ProgramData\\Anaconda3\\lib\n",
      "C:\\ProgramData\\Anaconda3\n",
      "C:\\Users\\bde2002.53381\\AppData\\Roaming\\Python\\Python37\\site-packages\n",
      "C:\\ProgramData\\Anaconda3\\lib\\site-packages\n",
      "C:\\ProgramData\\Anaconda3\\lib\\site-packages\\win32\n",
      "C:\\ProgramData\\Anaconda3\\lib\\site-packages\\win32\\lib\n",
      "C:\\ProgramData\\Anaconda3\\lib\\site-packages\\Pythonwin\n",
      "C:\\ProgramData\\Anaconda3\\lib\\site-packages\\IPython\\extensions\n",
      "C:\\Users\\bde2002.53381\\.ipython\n"
     ]
    }
   ],
   "source": [
    "import sys\n",
    "print('\\n'.join(sys.path))"
   ]
  },
  {
   "cell_type": "code",
   "execution_count": null,
   "metadata": {
    "scrolled": false
   },
   "outputs": [],
   "source": [
    "!pip install synthesis"
   ]
  },
  {
   "cell_type": "code",
   "execution_count": null,
   "metadata": {
    "scrolled": true
   },
   "outputs": [],
   "source": [
    "!pip install --upgrade pip"
   ]
  },
  {
   "cell_type": "code",
   "execution_count": null,
   "metadata": {},
   "outputs": [],
   "source": []
  }
 ],
 "metadata": {
  "kernelspec": {
   "display_name": "Python 3",
   "language": "python",
   "name": "python3"
  },
  "language_info": {
   "codemirror_mode": {
    "name": "ipython",
    "version": 3
   },
   "file_extension": ".py",
   "mimetype": "text/x-python",
   "name": "python",
   "nbconvert_exporter": "python",
   "pygments_lexer": "ipython3",
   "version": "3.7.0"
  }
 },
 "nbformat": 4,
 "nbformat_minor": 2
}
